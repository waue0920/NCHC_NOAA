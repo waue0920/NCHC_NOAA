{
 "cells": [
  {
   "cell_type": "markdown",
   "metadata": {},
   "source": [
    "# Step 0. Parameter Setting & User Authentication"
   ]
  },
  {
   "cell_type": "code",
   "execution_count": null,
   "metadata": {},
   "outputs": [],
   "source": [
    "import dtnmonitor as dtn\n",
    "import utilities as util\n",
    "import os\n",
    "\n",
    "username=\"peggy.lu@northwestern.edu\"\n",
    "passwd=\"1234\"\n",
    "date=\"20170828\" # choise date\n",
    "simu_starttime=\"00\"  #00  06  12  18\n",
    "folder=\"NOAA\"\n",
    "graph_mode=1  #0 all, 1 100pt\n",
    "band=315  #47:absolute_vorticity_isobaric   315: temperature_pressure_difference_layer  49:geopotential_height_isobaric\n",
    "#authentication\n",
    "util.authenticate(username,passwd)"
   ]
  },
  {
   "cell_type": "markdown",
   "metadata": {},
   "source": [
    "# Step 1. Download original grib2 data"
   ]
  },
  {
   "cell_type": "code",
   "execution_count": null,
   "metadata": {
    "scrolled": false
   },
   "outputs": [],
   "source": [
    "grib_dir=\"./\"+folder+\"/\"+date+\"_\"+simu_starttime+\"/grib2/\"\n",
    "\n",
    "if len([name for name in os.listdir(grib_dir) if os.path.isfile(grib_dir+\"/\"+name)]) < 6 :\n",
    "    #download\n",
    "    dtn.exec_command(date,simu_starttime,folder,graph_mode)\n"
   ]
  },
  {
   "cell_type": "markdown",
   "metadata": {},
   "source": [
    "# Step 2. Convert grib2 to image"
   ]
  },
  {
   "cell_type": "code",
   "execution_count": null,
   "metadata": {
    "scrolled": true
   },
   "outputs": [],
   "source": [
    "\n",
    "output_directory=folder+\"/\"+date+\"_\"+simu_starttime\n",
    "origin_folder = output_directory+\"/grib2\"\n",
    "#convert grib2 to netCDF\n",
    "netcdf_folder =output_directory+\"/nc\"\n",
    "util.mkdir_p(netcdf_folder)\n",
    "util.rm_file_in_folder(netcdf_folder)\n",
    "#convert nc to png\n",
    "img_folder =output_directory+\"/image\"\n",
    "util.mkdir_p(img_folder)\n",
    "util.rm_file_in_folder(img_folder)\n",
    "for dirname, dirnames, filenames in os.walk(origin_folder):\n",
    "    # print path to all filenames.\n",
    "    isFirst=True\n",
    "    myFirstfile = \"null\"\n",
    "    for filename in sorted(filenames):\n",
    "    #for filename in filenames:\n",
    "        #print(os.path.join(dirname, filename))       \n",
    "        if filename.endswith(\".grib2\"):         \n",
    "\n",
    "            filename_noext=os.path.splitext(filename)[0]\n",
    "            print(\"convert \"+filename_noext+\" to netCDF...\")\n",
    "            output_netCDF=filename_noext+\".nc\"\n",
    "            gdal_command = \"gdal_translate -b \"+str(band)+\" -of netCDF \"+origin_folder+\"/\" +filename+\" \"+netcdf_folder+\"/\"+output_netCDF\n",
    "            util.execute(gdal_command)\n",
    "\n",
    "            if os.path.isfile(netcdf_folder+\"/\"+output_netCDF):\n",
    "                print(\"convert \"+filename_noext+\" to image...\")\n",
    "                output_png=filename_noext+\".png\"\n",
    "                util.plot(netcdf_folder+\"/\"+output_netCDF,myFirstfile,img_folder+\"/\"+output_png)\n",
    "                if isFirst:\n",
    "                    myFirstfile=netcdf_folder+\"/\"+output_netCDF\n",
    "                    isFirst=False\n",
    "            else:\n",
    "                print(\"nc file does not exist\")\n",
    "\n",
    "\n",
    "           \n",
    "           "
   ]
  },
  {
   "cell_type": "markdown",
   "metadata": {},
   "source": [
    "# Step 3. Convert image to video"
   ]
  },
  {
   "cell_type": "code",
   "execution_count": null,
   "metadata": {},
   "outputs": [],
   "source": [
    "#convert png to video\n",
    "#ffmpeg -r 1 -i $IMAGE_FOLDER/gfs.0p25.$DATE$i.f%*.png  -vcodec mpeg4 -y $VIDEO_FOLDER/${DATE}_$i.mp4\"\n",
    "output_video = output_directory+\"/\"+date+\"_\"+simu_starttime+\".mp4\"\n",
    "video_command = \"ffmpeg -r 1 -i \"+img_folder+\"/gfs.0p25.\"+date+simu_starttime+\".f%*.png -vf 'scale=trunc(iw/2)*2:trunc(ih/2)*2' -vcodec libx264 -pix_fmt yuv420p -y \"+output_video\n",
    "print(video_command)\n",
    "util.execute(video_command)"
   ]
  },
  {
   "cell_type": "markdown",
   "metadata": {},
   "source": [
    "# Step 4. show video"
   ]
  },
  {
   "cell_type": "code",
   "execution_count": null,
   "metadata": {},
   "outputs": [],
   "source": [
    "#show video\n",
    "import io\n",
    "import base64\n",
    "from IPython.display import HTML\n",
    "\n",
    "video = io.open(output_video, 'r+b').read()\n",
    "encoded = base64.b64encode(video)\n",
    "HTML(data='''<video alt=\"test\" controls>\n",
    "                <source src=\"data:video/mp4;base64,{0}\" type='video/mp4; codecs=\"avc1.42E01E, mp4a.40.2\"'\" />\n",
    "             </video>'''.format(encoded.decode('ascii')))"
   ]
  },
  {
   "cell_type": "code",
   "execution_count": null,
   "metadata": {},
   "outputs": [],
   "source": []
  }
 ],
 "metadata": {
  "kernelspec": {
   "display_name": "Python 3",
   "language": "python",
   "name": "python3"
  },
  "language_info": {
   "codemirror_mode": {
    "name": "ipython",
    "version": 3
   },
   "file_extension": ".py",
   "mimetype": "text/x-python",
   "name": "python",
   "nbconvert_exporter": "python",
   "pygments_lexer": "ipython3",
   "version": "3.5.2"
  }
 },
 "nbformat": 4,
 "nbformat_minor": 2
}
